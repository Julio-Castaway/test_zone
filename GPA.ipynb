def calculate_gpa():
    num_classes = int(input("Digite o número de disciplinas: "))
    grade_type = input("Digite o tipo de nota que você usará (letra/numerica): ").lower()
    total_credits = 0
    weighted_sum = 0

    for i in range(num_classes):
        print(f"\nDisciplina {i+1}:")
        credits = float(input("Digite os créditos desta disciplina: "))

        if grade_type == 'letra':
            grade = input("Digite a nota (A-E): ").upper()
            # Convert letter grade to GPA points
            grade_points = {
                'A': 4.0,
                'B': 3.0,
                'C': 2.0,
                'D': 1.0,
                'E': 0.0
            }
            if grade in grade_points:
                points = grade_points[grade]
            else:
                print("Nota inválida. Usando 0.0")
                points = 0.0

        elif grade_type == 'numerica':
            grade = float(input("Digite a nota (0-10): "))
            # Convert 0-10 scale to 4.0 scale
            if grade >= 9:
                points = 4.0
            elif grade >= 7:
                points = 3.0
            elif grade >= 5:
                points = 2.0
            elif grade >= 3:
                points = 1.0
            else:
                points = 0.0
        else:
            print("Tipo de nota inválido. Programa encerrado.")
            return

        weighted_sum += credits * points
        total_credits += credits

    if total_credits > 0:
        gpa = weighted_sum / total_credits
        print(f"\nSeu GPA é: {gpa:.2f}")
    else:
        print("\nNenhum crédito foi inserido")

if __name__ == "__main__":
    print("Calculadora de GPA - Sistema de Notas Brasileiro para GPA")
    calculate_gpa()

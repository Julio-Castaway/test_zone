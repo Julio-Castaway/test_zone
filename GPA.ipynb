%%writefile gpa_calculator.py
import tkinter as tk
from tkinter import ttk, messagebox

class GPACalculator:
    def __init__(self, root):
        self.root = root
        self.root.title("Calculadora de GPA")
        self.root.geometry("600x400")

        # Configure style
        self.configure_style()

        # Create main container
        self.create_main_frame()

        # Create grade type selection
        self.create_grade_type_selection()

        # Create grades container
        self.create_grades_container()

        # Create buttons
        self.create_buttons()

        # Create result label
        self.create_result_label()

        # Initialize first grade row
        self.grade_entries = []
        self.add_grade_row()

    def configure_style(self):
        style = ttk.Style()
        style.configure('TButton', padding=5)
        style.configure('TLabel', padding=5)
        style.configure('TRadiobutton', padding=5)

    def create_main_frame(self):
        self.main_frame = ttk.Frame(self.root, padding="10")
        self.main_frame.grid(row=0, column=0, sticky=(tk.W, tk.E, tk.N, tk.S))

    def create_grade_type_selection(self):
        self.grade_type = tk.StringVar(value="letra")
        ttk.Label(self.main_frame, text="Tipo de nota:").grid(row=0, column=0, sticky=tk.W)
        ttk.Radiobutton(self.main_frame, text="Letra (A-E)",
                       variable=self.grade_type,
                       value="letra").grid(row=0, column=1, sticky=tk.W)
        ttk.Radiobutton(self.main_frame, text="Numérica (0-10)",
                       variable=self.grade_type,
                       value="numerica").grid(row=0, column=2, sticky=tk.W)

    def create_grades_container(self):
        self.grades_frame = ttk.LabelFrame(self.main_frame, text="Disciplinas", padding="10")
        self.grades_frame.grid(row=1, column=0, columnspan=3, sticky=(tk.W, tk.E, tk.N, tk.S))

    def create_buttons(self):
        button_frame = ttk.Frame(self.main_frame)
        button_frame.grid(row=2, column=0, columnspan=3, pady=10)

        ttk.Button(button_frame, text="Adicionar Disciplina",
                  command=self.add_grade_row).grid(row=0, column=0, padx=5)
        ttk.Button(button_frame, text="Calcular GPA",
                  command=self.calculate_gpa).grid(row=0, column=1, padx=5)
        ttk.Button(button_frame, text="Limpar Tudo",
                  command=self.clear_all).grid(row=0, column=2, padx=5)

    def create_result_label(self):
        self.result_var = tk.StringVar()
        ttk.Label(self.main_frame, textvariable=self.result_var,
                 font=('Arial', 12, 'bold')).grid(row=3, column=0, columnspan=3, pady=10)

    def add_grade_row(self):
        row = len(self.grade_entries)
        frame = ttk.Frame(self.grades_frame)
        frame.grid(row=row, column=0, sticky=(tk.W, tk.E), pady=2)

        ttk.Label(frame, text=f"Disciplina {row + 1}:").grid(row=0, column=0, padx=5)

        grade_entry = ttk.Entry(frame, width=10)
        grade_entry.grid(row=0, column=1, padx=5)

        ttk.Label(frame, text="Créditos:").grid(row=0, column=2, padx=5)
        credits_entry = ttk.Entry(frame, width=10)
        credits_entry.grid(row=0, column=3, padx=5)

        delete_btn = ttk.Button(frame, text="X", width=2,
                              command=lambda f=frame: self.delete_row(f))
        delete_btn.grid(row=0, column=4, padx=5)

        self.grade_entries.append((frame, grade_entry, credits_entry))

    def delete_row(self, frame):
        if len(self.grade_entries) > 1:
            frame.destroy()
            self.grade_entries = [(f, g, c) for f, g, c in self.grade_entries if f != frame]
            self.renumber_rows()

    def renumber_rows(self):
        for i, (frame, _, _) in enumerate(self.grade_entries):
            frame.grid_slaves()[3]['text'] = f"Disciplina {i + 1}:"

    def clear_all(self):
        for frame, _, _ in self.grade_entries:
            frame.destroy()
        self.grade_entries.clear()
        self.add_grade_row()
        self.result_var.set("")

    def calculate_gpa(self):
        try:
            weighted_sum = 0
            total_credits = 0

            for _, grade_entry, credits_entry in self.grade_entries:
                grade = grade_entry.get().strip()
                credits = credits_entry.get().strip()

                if not grade or not credits:
                    continue

                credits = float(credits)

                if self.grade_type.get() == "letra":
                    grade_points = {'A': 4.0, 'B': 3.0, 'C': 2.0, 'D': 1.0, 'E': 0.0}
                    points = grade_points.get(grade.upper(), 0.0)
                else:
                    grade = float(grade)
                    if grade >= 9: points = 4.0
                    elif grade >= 7: points = 3.0
                    elif grade >= 5: points = 2.0
                    elif grade >= 3: points = 1.0
                    else: points = 0.0

                weighted_sum += credits * points
                total_credits += credits

            if total_credits > 0:
                gpa = weighted_sum / total_credits
                self.result_var.set(f"Seu GPA é: {gpa:.2f}")
            else:
                self.result_var.set("Nenhum crédito válido foi inserido")

        except ValueError:
            messagebox.showerror("Erro", "Por favor, insira valores válidos")

def main():
    root = tk.Tk()
    app = GPACalculator(root)
    root.mainloop()

if __name__ == "__main__":
    main()
